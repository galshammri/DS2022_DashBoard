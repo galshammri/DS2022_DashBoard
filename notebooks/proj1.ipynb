{
  "nbformat": 4,
  "nbformat_minor": 0,
  "metadata": {
    "colab": {
      "provenance": []
    },
    "kernelspec": {
      "name": "python3",
      "display_name": "Python 3"
    },
    "language_info": {
      "name": "python"
    }
  },
  "cells": [
    {
      "cell_type": "code",
      "execution_count": 3,
      "metadata": {
        "colab": {
          "base_uri": "https://localhost:8080/"
        },
        "id": "AOPCJF5m0-sU",
        "outputId": "b6c8d98f-4a84-42b5-cf32-19fe50b754f6"
      },
      "outputs": [
        {
          "output_type": "stream",
          "name": "stdout",
          "text": [
            "Welcome to our Dashboard .....!\n",
            "Welcome to our Dashboard .....!\n",
            "Welcome to our Dashboard .....!\n"
          ]
        }
      ],
      "source": [
        "import time\n",
        "\n",
        "print(\"Welcome to our Dashboard .....!\")\n",
        "time.sleep(15)\n",
        "print(\"Welcome to our Dashboard .....!\")\n",
        "time.sleep(15)\n",
        "print(\"Welcome to our Dashboard .....!\")\n",
        "time.sleep(15)"
      ]
    }
  ]
}